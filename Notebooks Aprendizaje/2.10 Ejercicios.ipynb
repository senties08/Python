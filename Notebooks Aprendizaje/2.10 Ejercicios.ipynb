{
 "cells": [
  {
   "cell_type": "markdown",
   "metadata": {},
   "source": [
    "<font color=Green>\n",
    "\n",
    "# **2.10 Ejercicios**\n",
    "    \n",
    "</font>\n",
    "\n",
    "###   1) Define una variable edad y asígnale un valor entero. \n",
    "+ Muestra su valor por pantalla.\n",
    "+ Define otra variable edad_cadena que contenga el valor de edad como una cadena de caracteres. \n",
    "+ Comprueba el tipo de la nueva variable.\n",
    "+ Utiliza la variable edad que has definido previamente y calcula la edad que tendría esa persona en el año 2035.\n"
   ]
  },
  {
   "cell_type": "code",
   "execution_count": 4,
   "metadata": {},
   "outputs": [
    {
     "name": "stdout",
     "output_type": "stream",
     "text": [
      "que edad tienes25\n",
      "que año es?2022\n",
      "25 <class 'int'>  tu edad en el año 2035 sera 38\n"
     ]
    }
   ],
   "source": [
    "edad=int(input(\"que edad tienes\"))\n",
    "year_actual=int(input(\"que año es?\"))\n",
    "print(edad,type(edad),\" tu edad en el año 2035 sera\",2035-year_actual+edad) "
   ]
  },
  {
   "cell_type": "markdown",
   "metadata": {},
   "source": [
    "### 2) Al realizar una consulta en un registro hemos recibido unos valores corruptos. Al parecer entrega el nombre y apellido del alumno al revés. ¿Qué puede hacer para obtener el siguiente mensaje por pantalla\n",
    "> _NOMBRE APELLIDO ha sacado un NOTA_"
   ]
  },
  {
   "cell_type": "code",
   "execution_count": null,
   "metadata": {},
   "outputs": [],
   "source": []
  },
  {
   "cell_type": "markdown",
   "metadata": {},
   "source": [
    "### 3) Utilizando operadores lógicos determina si una cadena de texto introducida por el usuario tiene una longitud mayor o igual a 3 y menor o igual a 12 (Basta con mostrar _True o False_ )"
   ]
  },
  {
   "cell_type": "code",
   "execution_count": null,
   "metadata": {},
   "outputs": [],
   "source": []
  },
  {
   "cell_type": "markdown",
   "metadata": {},
   "source": [
    "### 4) Realiza un programa que lea 2 números por teclado y determine los siguientes aspectos (es suficiene con mostrar True o False):\n",
    "+ Si los dos números son iguales\n",
    "+ Si los dos números son diferentes\n",
    "+ Si el primero es mayor que el segundo\n",
    "+ Si el segundo es mayor o igual que el primero"
   ]
  },
  {
   "cell_type": "code",
   "execution_count": 7,
   "metadata": {},
   "outputs": [
    {
     "name": "stdout",
     "output_type": "stream",
     "text": [
      "primer numero5\n",
      "segundo numero6\n"
     ]
    }
   ],
   "source": [
    "n1=int(input(\"primer numero \"))\n",
    "n2=int(input(\"segundo numero \"))"
   ]
  },
  {
   "cell_type": "code",
   "execution_count": 10,
   "metadata": {},
   "outputs": [
    {
     "name": "stdout",
     "output_type": "stream",
     "text": [
      "Si los dos números son iguales:  False \n",
      "si los dos números son diferentes:  True \n",
      "Si el primero es mayor que el segundo: False \n",
      "Si el segundo es mayor o igual que el primero: True\n"
     ]
    }
   ],
   "source": [
    "print(\"Si los dos números son iguales: \",n1==n2,\"\\n\"\n",
    "\"si los dos números son diferentes: \", n1!=n2,\"\\n\"\n",
    "\"Si el primero es mayor que el segundo:\", n1>n2,\"\\n\"\n",
    "\"Si el segundo es mayor o igual que el primero:\",  n1<=n2)"
   ]
  },
  {
   "cell_type": "code",
   "execution_count": null,
   "metadata": {},
   "outputs": [],
   "source": [
    "♣"
   ]
  }
 ],
 "metadata": {
  "kernelspec": {
   "display_name": "Python 3 (ipykernel)",
   "language": "python",
   "name": "python3"
  },
  "language_info": {
   "codemirror_mode": {
    "name": "ipython",
    "version": 3
   },
   "file_extension": ".py",
   "mimetype": "text/x-python",
   "name": "python",
   "nbconvert_exporter": "python",
   "pygments_lexer": "ipython3",
   "version": "3.9.7"
  }
 },
 "nbformat": 4,
 "nbformat_minor": 4
}
