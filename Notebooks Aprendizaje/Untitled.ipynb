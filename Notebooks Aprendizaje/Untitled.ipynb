{
 "cells": [
  {
   "cell_type": "code",
   "execution_count": 1,
   "id": "e8476061",
   "metadata": {},
   "outputs": [
    {
     "name": "stdout",
     "output_type": "stream",
     "text": [
      "hola\n"
     ]
    }
   ],
   "source": [
    "m= input()"
   ]
  },
  {
   "cell_type": "code",
   "execution_count": 2,
   "id": "a6460664",
   "metadata": {},
   "outputs": [
    {
     "data": {
      "text/plain": [
       "'a'"
      ]
     },
     "execution_count": 2,
     "metadata": {},
     "output_type": "execute_result"
    }
   ],
   "source": [
    "m[3]"
   ]
  },
  {
   "cell_type": "markdown",
   "id": "3e33610c",
   "metadata": {},
   "source": [
    "\n",
    "### m[3]=a y a en ord (valor ascii) es 97\n",
    "### \"bim\" es caracteristica de binario. \n",
    "### 97 en binario es 1100001 \n"
   ]
  },
  {
   "cell_type": "code",
   "execution_count": 3,
   "id": "ee73b104",
   "metadata": {},
   "outputs": [
    {
     "data": {
      "text/plain": [
       "97"
      ]
     },
     "execution_count": 3,
     "metadata": {},
     "output_type": "execute_result"
    }
   ],
   "source": [
    "ord(m[3])"
   ]
  },
  {
   "cell_type": "code",
   "execution_count": 4,
   "id": "684c05b1",
   "metadata": {},
   "outputs": [
    {
     "data": {
      "text/plain": [
       "'0b1100001'"
      ]
     },
     "execution_count": 4,
     "metadata": {},
     "output_type": "execute_result"
    }
   ],
   "source": [
    "bin(ord(m[3]))"
   ]
  },
  {
   "cell_type": "markdown",
   "id": "fe2d8a35",
   "metadata": {},
   "source": [
    "### Operadores de bit:\n",
    "### XOR(bit) :   ^  ejemplo  A^B\n",
    "### ORX(bit) :   |   ejemplo  A|B"
   ]
  },
  {
   "cell_type": "code",
   "execution_count": 7,
   "id": "545e893a",
   "metadata": {},
   "outputs": [
    {
     "data": {
      "text/plain": [
       "'0b1000001'"
      ]
     },
     "execution_count": 7,
     "metadata": {},
     "output_type": "execute_result"
    }
   ],
   "source": [
    "bin(65)"
   ]
  },
  {
   "cell_type": "code",
   "execution_count": 8,
   "id": "5d105361",
   "metadata": {},
   "outputs": [
    {
     "data": {
      "text/plain": [
       "'0b1111'"
      ]
     },
     "execution_count": 8,
     "metadata": {},
     "output_type": "execute_result"
    }
   ],
   "source": [
    "bin(15)"
   ]
  },
  {
   "cell_type": "code",
   "execution_count": 6,
   "id": "a6dcc38d",
   "metadata": {},
   "outputs": [
    {
     "data": {
      "text/plain": [
       "78"
      ]
     },
     "execution_count": 6,
     "metadata": {},
     "output_type": "execute_result"
    }
   ],
   "source": [
    "65 ^ 15 "
   ]
  },
  {
   "cell_type": "code",
   "execution_count": null,
   "id": "970c43d6",
   "metadata": {},
   "outputs": [],
   "source": []
  },
  {
   "cell_type": "code",
   "execution_count": null,
   "id": "fbb60153",
   "metadata": {},
   "outputs": [],
   "source": []
  }
 ],
 "metadata": {
  "kernelspec": {
   "display_name": "Python 3 (ipykernel)",
   "language": "python",
   "name": "python3"
  },
  "language_info": {
   "codemirror_mode": {
    "name": "ipython",
    "version": 3
   },
   "file_extension": ".py",
   "mimetype": "text/x-python",
   "name": "python",
   "nbconvert_exporter": "python",
   "pygments_lexer": "ipython3",
   "version": "3.9.7"
  }
 },
 "nbformat": 4,
 "nbformat_minor": 5
}
