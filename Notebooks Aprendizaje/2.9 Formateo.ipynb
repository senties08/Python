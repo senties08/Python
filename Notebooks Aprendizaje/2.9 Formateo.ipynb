{
 "cells": [
  {
   "cell_type": "markdown",
   "metadata": {},
   "source": [
    "<font color=Green>\n",
    "    \n",
    "# 2.9 Formateo\n",
    "</font>\n"
   ]
  },
  {
   "cell_type": "code",
   "execution_count": 9,
   "metadata": {
    "scrolled": true
   },
   "outputs": [
    {
     "name": "stdout",
     "output_type": "stream",
     "text": [
      "valor de a 10\n",
      "valor de b 11\n"
     ]
    },
    {
     "data": {
      "text/plain": [
       "'10 es el primer valor y 11 es el segundo'"
      ]
     },
     "execution_count": 9,
     "metadata": {},
     "output_type": "execute_result"
    }
   ],
   "source": [
    "a=input(\"valor de a \") \n",
    "b=input(\"valor de b \") \n",
    "\n",
    "'{} es el primer valor y {} es el segundo'.format(a,b)"
   ]
  },
  {
   "cell_type": "code",
   "execution_count": 10,
   "metadata": {
    "scrolled": true
   },
   "outputs": [
    {
     "data": {
      "text/plain": [
       "'En este caso alteramos el orden y el Dos aparece primero, luego el Uno'"
      ]
     },
     "execution_count": 10,
     "metadata": {},
     "output_type": "execute_result"
    }
   ],
   "source": [
    "'En este caso alteramos el orden y el {1} aparece primero, luego el {0}'.format('Uno','Dos')"
   ]
  },
  {
   "cell_type": "code",
   "execution_count": 13,
   "metadata": {},
   "outputs": [
    {
     "name": "stdout",
     "output_type": "stream",
     "text": [
      "El valor de la cartuja de parma es 0.7\n"
     ]
    }
   ],
   "source": [
    "nombre= 'la cartuja de parma'\n",
    "\n",
    "x= .7 \n",
    "print(f'El valor de {nombre} es', x) "
   ]
  },
  {
   "cell_type": "markdown",
   "metadata": {},
   "source": [
    "###  También podemos aplicar métodos"
   ]
  },
  {
   "cell_type": "code",
   "execution_count": 14,
   "metadata": {
    "scrolled": true
   },
   "outputs": [
    {
     "name": "stdout",
     "output_type": "stream",
     "text": [
      "El valor de La Cartuja De Parma \n",
      " es 0.7 dólares por el papel\n"
     ]
    }
   ],
   "source": [
    "print(f'El valor de {nombre.title()} \\n es', x, 'dólares por el papel')"
   ]
  },
  {
   "cell_type": "code",
   "execution_count": 15,
   "metadata": {},
   "outputs": [
    {
     "name": "stdout",
     "output_type": "stream",
     "text": [
      "{'uno': 0.7, 'dos': 10.7}\n"
     ]
    }
   ],
   "source": [
    "diccionario = {'uno': x, 'dos': x.__add__(10)} ;\n",
    "\n",
    "print(diccionario); "
   ]
  },
  {
   "cell_type": "code",
   "execution_count": 16,
   "metadata": {},
   "outputs": [
    {
     "name": "stdout",
     "output_type": "stream",
     "text": [
      "La Cartuja De Parma cuesta 0.7 pesos \n",
      " y el otro libro 10.7 pesos.\n"
     ]
    }
   ],
   "source": [
    "print(f'{nombre.title()} cuesta {diccionario[\"uno\"]} pesos \\n y el otro libro {diccionario[\"dos\"]} pesos.')"
   ]
  },
  {
   "cell_type": "code",
   "execution_count": null,
   "metadata": {},
   "outputs": [],
   "source": []
  }
 ],
 "metadata": {
  "kernelspec": {
   "display_name": "Python 3 (ipykernel)",
   "language": "python",
   "name": "python3"
  },
  "language_info": {
   "codemirror_mode": {
    "name": "ipython",
    "version": 3
   },
   "file_extension": ".py",
   "mimetype": "text/x-python",
   "name": "python",
   "nbconvert_exporter": "python",
   "pygments_lexer": "ipython3",
   "version": "3.9.7"
  }
 },
 "nbformat": 4,
 "nbformat_minor": 4
}
